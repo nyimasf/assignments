{
 "cells": [
  {
   "cell_type": "markdown",
   "metadata": {
    "collapsed": true
   },
   "source": [
    "# Assignment for week 6\n",
    "\n",
    "Use the following table to provide us with\n",
    "\n",
    "|name | exam number|\n",
    "|----|----|\n",
    "|Nyimas Faradilla| 225089|\n",
    "|Ting Chen| 920623|"
   ]
  },
  {
   "cell_type": "markdown",
   "metadata": {},
   "source": [
    "In this assignment you will have to make a plot of the mortality due to \"Ischemic heart diseases (IHD)\". IHD are caused by the\n",
    "accumulation of fatty deposits lining the inner wall of a coronary artery, restricting blood flow to the heart. IHD alone\n",
    "were responsible for 644 000 deaths across EU countries in 2013, accounting for around 13% of all deaths. Mortality\n",
    "rates from IHD are highest in Lithuania, Latvia, the Slovak Republic, Hungary and the Czech Republic, with over 350 deaths per 100 000 population. The countries with the lowest IHD mortality rates are France, Portugal, the\n",
    "Netherlands, Spain and Belgium. Our plot is taken from http://www.oecd-ilibrary.org/docserver/download/8116231e.pdf?expires=1486219843&id=id&accname=guest&checksum=F326409CF6DCD4DC61990871F943B489 page 63. I have downloaded the data for you and saved it as a csv: mrate.csv.\n",
    "First read the data with the command read.csv2\n",
    "\n",
    "If you encounter the problem that all observations per row are in one cell, add: ,sep=\";\"\n",
    "The command should look like \n",
    "namedf <-read.csv2(\"name of file\", sep=\";\")"
   ]
  },
  {
   "cell_type": "code",
   "execution_count": 2,
   "metadata": {
    "collapsed": false
   },
   "outputs": [],
   "source": [
    "namedf <-read.csv2(\"mrate.csv\",sep =\";\")\n"
   ]
  },
  {
   "cell_type": "markdown",
   "metadata": {},
   "source": [
    "Please have a look at the structure of data with the command str()"
   ]
  },
  {
   "cell_type": "code",
   "execution_count": 3,
   "metadata": {
    "collapsed": false
   },
   "outputs": [
    {
     "name": "stdout",
     "output_type": "stream",
     "text": [
      "'data.frame':\t14 obs. of  7 variables:\n",
      " $ Year          : int  2000 2001 2002 2003 2004 2005 2006 2007 2008 2009 ...\n",
      " $ Netherlands   : num  158 149 141 135 121 ...\n",
      " $ Hungary       : num  417 419 414 440 442 ...\n",
      " $ France        : num  94.3 90.7 88 87.1 80.1 77.4 71.2 67.6 64.8 61.2 ...\n",
      " $ Lithuania     : num  612 677 666 656 642 ...\n",
      " $ United.Kingdom: num  259 250 241 232 213 ...\n",
      " $ EU28          : num  221 214 206 205 192 ...\n"
     ]
    }
   ],
   "source": [
    "str(namedf)"
   ]
  },
  {
   "cell_type": "markdown",
   "metadata": {},
   "source": [
    "Since the data are in the \"wide\" format, we need to make it in the long format with the package \"tidyr\". For the graph we need the package ggplot2."
   ]
  },
  {
   "cell_type": "markdown",
   "metadata": {},
   "source": [
    "Load the libraries ggplot2 and dplyr with the command libary()"
   ]
  },
  {
   "cell_type": "code",
   "execution_count": 9,
   "metadata": {
    "collapsed": false
   },
   "outputs": [],
   "source": [
    "library(ggplot2)\n",
    "library(dplyr)\n",
    "library(tidyr)\n"
   ]
  },
  {
   "cell_type": "markdown",
   "metadata": {},
   "source": [
    "Now we have the most difficult part of the assignment. We need to make a new object and than convert the data in the long format with the command \"gather\".\n",
    "\n",
    "\n",
    "The command should look like\n",
    "\n",
    "\n",
    "new object <- gather(name dataframe, name of the new colum, name of the value, column:column)\n",
    "\n",
    "* For new object you can use for example p.\n",
    "* The name of our dataframe was s\n",
    "* The name of the new column could be Country (since we want the countries to be the observations). Country is a new name.\n",
    "* The name of the value could be mortality (since the numbers are Age-standardised mortality rates per 100 000 population)\n",
    "* We need the colums from the Netherlands until EU28 (so you have to fill in Netherlands:EU28)."
   ]
  },
  {
   "cell_type": "code",
   "execution_count": 24,
   "metadata": {
    "collapsed": false
   },
   "outputs": [
    {
     "data": {
      "text/html": [
       "<table>\n",
       "<thead><tr><th scope=col>Year</th><th scope=col>Country</th><th scope=col>mortality</th></tr></thead>\n",
       "<tbody>\n",
       "\t<tr><td>2000       </td><td>Netherlands</td><td>157.6      </td></tr>\n",
       "\t<tr><td>2001       </td><td>Netherlands</td><td>148.7      </td></tr>\n",
       "\t<tr><td>2002       </td><td>Netherlands</td><td>140.7      </td></tr>\n",
       "\t<tr><td>2003       </td><td>Netherlands</td><td>134.8      </td></tr>\n",
       "\t<tr><td>2004       </td><td>Netherlands</td><td>120.6      </td></tr>\n",
       "\t<tr><td>2005       </td><td>Netherlands</td><td>111.8      </td></tr>\n",
       "\t<tr><td>2006       </td><td>Netherlands</td><td>102.6      </td></tr>\n",
       "\t<tr><td>2007       </td><td>Netherlands</td><td> 95.4      </td></tr>\n",
       "\t<tr><td>2008       </td><td>Netherlands</td><td> 89.3      </td></tr>\n",
       "\t<tr><td>2009       </td><td>Netherlands</td><td> 81.5      </td></tr>\n",
       "\t<tr><td>2010       </td><td>Netherlands</td><td> 77.5      </td></tr>\n",
       "\t<tr><td>2011       </td><td>Netherlands</td><td> 74.1      </td></tr>\n",
       "\t<tr><td>2012       </td><td>Netherlands</td><td> 71.4      </td></tr>\n",
       "\t<tr><td>2013       </td><td>Netherlands</td><td> 66.5      </td></tr>\n",
       "\t<tr><td>2000       </td><td>Hungary    </td><td>416.6      </td></tr>\n",
       "\t<tr><td>2001       </td><td>Hungary    </td><td>418.8      </td></tr>\n",
       "\t<tr><td>2002       </td><td>Hungary    </td><td>414.3      </td></tr>\n",
       "\t<tr><td>2003       </td><td>Hungary    </td><td>440.0      </td></tr>\n",
       "\t<tr><td>2004       </td><td>Hungary    </td><td>441.7      </td></tr>\n",
       "\t<tr><td>2005       </td><td>Hungary    </td><td>450.8      </td></tr>\n",
       "\t<tr><td>2006       </td><td>Hungary    </td><td>459.9      </td></tr>\n",
       "\t<tr><td>2007       </td><td>Hungary    </td><td>431.0      </td></tr>\n",
       "\t<tr><td>2008       </td><td>Hungary    </td><td>414.6      </td></tr>\n",
       "\t<tr><td>2009       </td><td>Hungary    </td><td>410.5      </td></tr>\n",
       "\t<tr><td>2010       </td><td>Hungary    </td><td>413.3      </td></tr>\n",
       "\t<tr><td>2011       </td><td>Hungary    </td><td>403.2      </td></tr>\n",
       "\t<tr><td>2012       </td><td>Hungary    </td><td>400.2      </td></tr>\n",
       "\t<tr><td>2013       </td><td>Hungary    </td><td>396.6      </td></tr>\n",
       "\t<tr><td>2000       </td><td>France     </td><td> 94.3      </td></tr>\n",
       "\t<tr><td>2001       </td><td>France     </td><td> 90.7      </td></tr>\n",
       "\t<tr><td>⋮</td><td>⋮</td><td>⋮</td></tr>\n",
       "\t<tr><td>2012          </td><td>Lithuania     </td><td>592.0         </td></tr>\n",
       "\t<tr><td>2013          </td><td>Lithuania     </td><td>589.3         </td></tr>\n",
       "\t<tr><td>2000          </td><td>United.Kingdom</td><td>258.6         </td></tr>\n",
       "\t<tr><td>2001          </td><td>United.Kingdom</td><td>249.8         </td></tr>\n",
       "\t<tr><td>2002          </td><td>United.Kingdom</td><td>240.7         </td></tr>\n",
       "\t<tr><td>2003          </td><td>United.Kingdom</td><td>231.7         </td></tr>\n",
       "\t<tr><td>2004          </td><td>United.Kingdom</td><td>213.4         </td></tr>\n",
       "\t<tr><td>2005          </td><td>United.Kingdom</td><td>200.7         </td></tr>\n",
       "\t<tr><td>2006          </td><td>United.Kingdom</td><td>184.5         </td></tr>\n",
       "\t<tr><td>2007          </td><td>United.Kingdom</td><td>175.7         </td></tr>\n",
       "\t<tr><td>2008          </td><td>United.Kingdom</td><td>166.2         </td></tr>\n",
       "\t<tr><td>2009          </td><td>United.Kingdom</td><td>153.4         </td></tr>\n",
       "\t<tr><td>2010          </td><td>United.Kingdom</td><td>146.8         </td></tr>\n",
       "\t<tr><td>2011          </td><td>United.Kingdom</td><td>132.3         </td></tr>\n",
       "\t<tr><td>2012          </td><td>United.Kingdom</td><td>130.5         </td></tr>\n",
       "\t<tr><td>2013          </td><td>United.Kingdom</td><td>126.1         </td></tr>\n",
       "\t<tr><td>2000          </td><td>EU28          </td><td>221.3         </td></tr>\n",
       "\t<tr><td>2001          </td><td>EU28          </td><td>213.8         </td></tr>\n",
       "\t<tr><td>2002          </td><td>EU28          </td><td>206.5         </td></tr>\n",
       "\t<tr><td>2003          </td><td>EU28          </td><td>205.1         </td></tr>\n",
       "\t<tr><td>2004          </td><td>EU28          </td><td>192.5         </td></tr>\n",
       "\t<tr><td>2005          </td><td>EU28          </td><td>187.1         </td></tr>\n",
       "\t<tr><td>2006          </td><td>EU28          </td><td>174.0         </td></tr>\n",
       "\t<tr><td>2007          </td><td>EU28          </td><td>167.3         </td></tr>\n",
       "\t<tr><td>2008          </td><td>EU28          </td><td>159.6         </td></tr>\n",
       "\t<tr><td>2009          </td><td>EU28          </td><td>152.9         </td></tr>\n",
       "\t<tr><td>2010          </td><td>EU28          </td><td>147.2         </td></tr>\n",
       "\t<tr><td>2011          </td><td>EU28          </td><td>139.3         </td></tr>\n",
       "\t<tr><td>2012          </td><td>EU28          </td><td>136.9         </td></tr>\n",
       "\t<tr><td>2013          </td><td>EU28          </td><td>131.9         </td></tr>\n",
       "</tbody>\n",
       "</table>\n"
      ],
      "text/latex": [
       "\\begin{tabular}{r|lll}\n",
       " Year & Country & mortality\\\\\n",
       "\\hline\n",
       "\t 2000        & Netherlands & 157.6      \\\\\n",
       "\t 2001        & Netherlands & 148.7      \\\\\n",
       "\t 2002        & Netherlands & 140.7      \\\\\n",
       "\t 2003        & Netherlands & 134.8      \\\\\n",
       "\t 2004        & Netherlands & 120.6      \\\\\n",
       "\t 2005        & Netherlands & 111.8      \\\\\n",
       "\t 2006        & Netherlands & 102.6      \\\\\n",
       "\t 2007        & Netherlands &  95.4      \\\\\n",
       "\t 2008        & Netherlands &  89.3      \\\\\n",
       "\t 2009        & Netherlands &  81.5      \\\\\n",
       "\t 2010        & Netherlands &  77.5      \\\\\n",
       "\t 2011        & Netherlands &  74.1      \\\\\n",
       "\t 2012        & Netherlands &  71.4      \\\\\n",
       "\t 2013        & Netherlands &  66.5      \\\\\n",
       "\t 2000        & Hungary     & 416.6      \\\\\n",
       "\t 2001        & Hungary     & 418.8      \\\\\n",
       "\t 2002        & Hungary     & 414.3      \\\\\n",
       "\t 2003        & Hungary     & 440.0      \\\\\n",
       "\t 2004        & Hungary     & 441.7      \\\\\n",
       "\t 2005        & Hungary     & 450.8      \\\\\n",
       "\t 2006        & Hungary     & 459.9      \\\\\n",
       "\t 2007        & Hungary     & 431.0      \\\\\n",
       "\t 2008        & Hungary     & 414.6      \\\\\n",
       "\t 2009        & Hungary     & 410.5      \\\\\n",
       "\t 2010        & Hungary     & 413.3      \\\\\n",
       "\t 2011        & Hungary     & 403.2      \\\\\n",
       "\t 2012        & Hungary     & 400.2      \\\\\n",
       "\t 2013        & Hungary     & 396.6      \\\\\n",
       "\t 2000        & France      &  94.3      \\\\\n",
       "\t 2001        & France      &  90.7      \\\\\n",
       "\t ⋮ & ⋮ & ⋮\\\\\n",
       "\t 2012           & Lithuania      & 592.0         \\\\\n",
       "\t 2013           & Lithuania      & 589.3         \\\\\n",
       "\t 2000           & United.Kingdom & 258.6         \\\\\n",
       "\t 2001           & United.Kingdom & 249.8         \\\\\n",
       "\t 2002           & United.Kingdom & 240.7         \\\\\n",
       "\t 2003           & United.Kingdom & 231.7         \\\\\n",
       "\t 2004           & United.Kingdom & 213.4         \\\\\n",
       "\t 2005           & United.Kingdom & 200.7         \\\\\n",
       "\t 2006           & United.Kingdom & 184.5         \\\\\n",
       "\t 2007           & United.Kingdom & 175.7         \\\\\n",
       "\t 2008           & United.Kingdom & 166.2         \\\\\n",
       "\t 2009           & United.Kingdom & 153.4         \\\\\n",
       "\t 2010           & United.Kingdom & 146.8         \\\\\n",
       "\t 2011           & United.Kingdom & 132.3         \\\\\n",
       "\t 2012           & United.Kingdom & 130.5         \\\\\n",
       "\t 2013           & United.Kingdom & 126.1         \\\\\n",
       "\t 2000           & EU28           & 221.3         \\\\\n",
       "\t 2001           & EU28           & 213.8         \\\\\n",
       "\t 2002           & EU28           & 206.5         \\\\\n",
       "\t 2003           & EU28           & 205.1         \\\\\n",
       "\t 2004           & EU28           & 192.5         \\\\\n",
       "\t 2005           & EU28           & 187.1         \\\\\n",
       "\t 2006           & EU28           & 174.0         \\\\\n",
       "\t 2007           & EU28           & 167.3         \\\\\n",
       "\t 2008           & EU28           & 159.6         \\\\\n",
       "\t 2009           & EU28           & 152.9         \\\\\n",
       "\t 2010           & EU28           & 147.2         \\\\\n",
       "\t 2011           & EU28           & 139.3         \\\\\n",
       "\t 2012           & EU28           & 136.9         \\\\\n",
       "\t 2013           & EU28           & 131.9         \\\\\n",
       "\\end{tabular}\n"
      ],
      "text/markdown": [
       "\n",
       "Year | Country | mortality | \n",
       "|---|---|---|---|---|---|---|---|---|---|---|---|---|---|---|---|---|---|---|---|---|---|---|---|---|---|---|---|---|---|---|---|---|---|---|---|---|---|---|---|---|---|---|---|---|---|---|---|---|---|---|---|---|---|---|---|---|---|---|---|---|\n",
       "| 2000        | Netherlands | 157.6       | \n",
       "| 2001        | Netherlands | 148.7       | \n",
       "| 2002        | Netherlands | 140.7       | \n",
       "| 2003        | Netherlands | 134.8       | \n",
       "| 2004        | Netherlands | 120.6       | \n",
       "| 2005        | Netherlands | 111.8       | \n",
       "| 2006        | Netherlands | 102.6       | \n",
       "| 2007        | Netherlands |  95.4       | \n",
       "| 2008        | Netherlands |  89.3       | \n",
       "| 2009        | Netherlands |  81.5       | \n",
       "| 2010        | Netherlands |  77.5       | \n",
       "| 2011        | Netherlands |  74.1       | \n",
       "| 2012        | Netherlands |  71.4       | \n",
       "| 2013        | Netherlands |  66.5       | \n",
       "| 2000        | Hungary     | 416.6       | \n",
       "| 2001        | Hungary     | 418.8       | \n",
       "| 2002        | Hungary     | 414.3       | \n",
       "| 2003        | Hungary     | 440.0       | \n",
       "| 2004        | Hungary     | 441.7       | \n",
       "| 2005        | Hungary     | 450.8       | \n",
       "| 2006        | Hungary     | 459.9       | \n",
       "| 2007        | Hungary     | 431.0       | \n",
       "| 2008        | Hungary     | 414.6       | \n",
       "| 2009        | Hungary     | 410.5       | \n",
       "| 2010        | Hungary     | 413.3       | \n",
       "| 2011        | Hungary     | 403.2       | \n",
       "| 2012        | Hungary     | 400.2       | \n",
       "| 2013        | Hungary     | 396.6       | \n",
       "| 2000        | France      |  94.3       | \n",
       "| 2001        | France      |  90.7       | \n",
       "| ⋮ | ⋮ | ⋮ | \n",
       "| 2012           | Lithuania      | 592.0          | \n",
       "| 2013           | Lithuania      | 589.3          | \n",
       "| 2000           | United.Kingdom | 258.6          | \n",
       "| 2001           | United.Kingdom | 249.8          | \n",
       "| 2002           | United.Kingdom | 240.7          | \n",
       "| 2003           | United.Kingdom | 231.7          | \n",
       "| 2004           | United.Kingdom | 213.4          | \n",
       "| 2005           | United.Kingdom | 200.7          | \n",
       "| 2006           | United.Kingdom | 184.5          | \n",
       "| 2007           | United.Kingdom | 175.7          | \n",
       "| 2008           | United.Kingdom | 166.2          | \n",
       "| 2009           | United.Kingdom | 153.4          | \n",
       "| 2010           | United.Kingdom | 146.8          | \n",
       "| 2011           | United.Kingdom | 132.3          | \n",
       "| 2012           | United.Kingdom | 130.5          | \n",
       "| 2013           | United.Kingdom | 126.1          | \n",
       "| 2000           | EU28           | 221.3          | \n",
       "| 2001           | EU28           | 213.8          | \n",
       "| 2002           | EU28           | 206.5          | \n",
       "| 2003           | EU28           | 205.1          | \n",
       "| 2004           | EU28           | 192.5          | \n",
       "| 2005           | EU28           | 187.1          | \n",
       "| 2006           | EU28           | 174.0          | \n",
       "| 2007           | EU28           | 167.3          | \n",
       "| 2008           | EU28           | 159.6          | \n",
       "| 2009           | EU28           | 152.9          | \n",
       "| 2010           | EU28           | 147.2          | \n",
       "| 2011           | EU28           | 139.3          | \n",
       "| 2012           | EU28           | 136.9          | \n",
       "| 2013           | EU28           | 131.9          | \n",
       "\n",
       "\n"
      ],
      "text/plain": [
       "   Year Country        mortality\n",
       "1  2000 Netherlands    157.6    \n",
       "2  2001 Netherlands    148.7    \n",
       "3  2002 Netherlands    140.7    \n",
       "4  2003 Netherlands    134.8    \n",
       "5  2004 Netherlands    120.6    \n",
       "6  2005 Netherlands    111.8    \n",
       "7  2006 Netherlands    102.6    \n",
       "8  2007 Netherlands     95.4    \n",
       "9  2008 Netherlands     89.3    \n",
       "10 2009 Netherlands     81.5    \n",
       "11 2010 Netherlands     77.5    \n",
       "12 2011 Netherlands     74.1    \n",
       "13 2012 Netherlands     71.4    \n",
       "14 2013 Netherlands     66.5    \n",
       "15 2000 Hungary        416.6    \n",
       "16 2001 Hungary        418.8    \n",
       "17 2002 Hungary        414.3    \n",
       "18 2003 Hungary        440.0    \n",
       "19 2004 Hungary        441.7    \n",
       "20 2005 Hungary        450.8    \n",
       "21 2006 Hungary        459.9    \n",
       "22 2007 Hungary        431.0    \n",
       "23 2008 Hungary        414.6    \n",
       "24 2009 Hungary        410.5    \n",
       "25 2010 Hungary        413.3    \n",
       "26 2011 Hungary        403.2    \n",
       "27 2012 Hungary        400.2    \n",
       "28 2013 Hungary        396.6    \n",
       "29 2000 France          94.3    \n",
       "30 2001 France          90.7    \n",
       "⋮  ⋮    ⋮              ⋮        \n",
       "55 2012 Lithuania      592.0    \n",
       "56 2013 Lithuania      589.3    \n",
       "57 2000 United.Kingdom 258.6    \n",
       "58 2001 United.Kingdom 249.8    \n",
       "59 2002 United.Kingdom 240.7    \n",
       "60 2003 United.Kingdom 231.7    \n",
       "61 2004 United.Kingdom 213.4    \n",
       "62 2005 United.Kingdom 200.7    \n",
       "63 2006 United.Kingdom 184.5    \n",
       "64 2007 United.Kingdom 175.7    \n",
       "65 2008 United.Kingdom 166.2    \n",
       "66 2009 United.Kingdom 153.4    \n",
       "67 2010 United.Kingdom 146.8    \n",
       "68 2011 United.Kingdom 132.3    \n",
       "69 2012 United.Kingdom 130.5    \n",
       "70 2013 United.Kingdom 126.1    \n",
       "71 2000 EU28           221.3    \n",
       "72 2001 EU28           213.8    \n",
       "73 2002 EU28           206.5    \n",
       "74 2003 EU28           205.1    \n",
       "75 2004 EU28           192.5    \n",
       "76 2005 EU28           187.1    \n",
       "77 2006 EU28           174.0    \n",
       "78 2007 EU28           167.3    \n",
       "79 2008 EU28           159.6    \n",
       "80 2009 EU28           152.9    \n",
       "81 2010 EU28           147.2    \n",
       "82 2011 EU28           139.3    \n",
       "83 2012 EU28           136.9    \n",
       "84 2013 EU28           131.9    "
      ]
     },
     "metadata": {},
     "output_type": "display_data"
    }
   ],
   "source": [
    "p <- gather(namedf, Country, mortality, Netherlands:EU28)"
   ]
  },
  {
   "cell_type": "markdown",
   "metadata": {},
   "source": [
    "Now we can make the plot with geom_line of ggplot.\n",
    "The syntax of the command would be:\n",
    "\n",
    "ggplot(name of dataframe, aes(x=x-axis, y=y-axis, color=Group) + geom_line()\n",
    "\n",
    "* name of dataframe is p if you followed the instructions above (the long format)\n",
    "* on the x-axis you will need Year\n",
    "* on the y-axis you will need mortality\n",
    "* for color you need Country (so we have one line per country)"
   ]
  },
  {
   "cell_type": "code",
   "execution_count": 35,
   "metadata": {
    "collapsed": false,
    "scrolled": true
   },
   "outputs": [
    {
     "data": {},
     "metadata": {},
     "output_type": "display_data"
    },
    {
     "data": {
      "image/png": "[encoded data removed]",
      "text/plain": [
       "plot without title"
      ]
     },
     "metadata": {},
     "output_type": "display_data"
    }
   ],
   "source": [
    "ggplot(p, aes(x=Year, Y=mortality), color=Country) + geom_line()"
   ]
  },
  {
   "cell_type": "code",
   "execution_count": null,
   "metadata": {
    "collapsed": false,
    "scrolled": true
   },
   "outputs": [],
   "source": []
  },
  {
   "cell_type": "code",
   "execution_count": null,
   "metadata": {
    "collapsed": true
   },
   "outputs": [],
   "source": []
  }
 ],
 "metadata": {
  "anaconda-cloud": {},
  "kernelspec": {
   "display_name": "R",
   "language": "R",
   "name": "ir"
  },
  "language_info": {
   "codemirror_mode": "r",
   "file_extension": ".r",
   "mimetype": "text/x-r-source",
   "name": "R",
   "pygments_lexer": "r",
   "version": "3.3.2"
  }
 },
 "nbformat": 4,
 "nbformat_minor": 1
}
